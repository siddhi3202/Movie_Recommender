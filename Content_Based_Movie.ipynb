{
 "cells": [
  {
   "cell_type": "code",
   "execution_count": 1,
   "id": "129ddb64",
   "metadata": {},
   "outputs": [],
   "source": [
    "import pandas as pd\n",
    "import numpy as np\n",
    "import math\n",
    "import matplotlib.pyplot as plt"
   ]
  },
  {
   "cell_type": "code",
   "execution_count": 2,
   "id": "6024081b",
   "metadata": {},
   "outputs": [],
   "source": [
    "df = pd.read_csv('imdb.csv')"
   ]
  },
  {
   "cell_type": "code",
   "execution_count": 3,
   "id": "b45254b4",
   "metadata": {},
   "outputs": [],
   "source": [
    "df=df.drop(['No_of_Votes', 'Gross', 'Meta_score'],axis=1)"
   ]
  },
  {
   "cell_type": "code",
   "execution_count": 4,
   "id": "e5e6cc7d",
   "metadata": {},
   "outputs": [
    {
     "data": {
      "text/html": [
       "<div>\n",
       "<style scoped>\n",
       "    .dataframe tbody tr th:only-of-type {\n",
       "        vertical-align: middle;\n",
       "    }\n",
       "\n",
       "    .dataframe tbody tr th {\n",
       "        vertical-align: top;\n",
       "    }\n",
       "\n",
       "    .dataframe thead th {\n",
       "        text-align: right;\n",
       "    }\n",
       "</style>\n",
       "<table border=\"1\" class=\"dataframe\">\n",
       "  <thead>\n",
       "    <tr style=\"text-align: right;\">\n",
       "      <th></th>\n",
       "      <th>Poster_Link</th>\n",
       "      <th>Series_Title</th>\n",
       "      <th>Released_Year</th>\n",
       "      <th>Certificate</th>\n",
       "      <th>Runtime</th>\n",
       "      <th>Genre</th>\n",
       "      <th>IMDB_Rating</th>\n",
       "      <th>Overview</th>\n",
       "      <th>Director</th>\n",
       "      <th>Star1</th>\n",
       "      <th>Star2</th>\n",
       "      <th>Star3</th>\n",
       "      <th>Star4</th>\n",
       "    </tr>\n",
       "  </thead>\n",
       "  <tbody>\n",
       "    <tr>\n",
       "      <th>0</th>\n",
       "      <td>https://m.media-amazon.com/images/M/MV5BMDFkYT...</td>\n",
       "      <td>The Shawshank Redemption</td>\n",
       "      <td>1994</td>\n",
       "      <td>A</td>\n",
       "      <td>142 min</td>\n",
       "      <td>Drama</td>\n",
       "      <td>9.3</td>\n",
       "      <td>Two imprisoned men bond over a number of years...</td>\n",
       "      <td>Frank Darabont</td>\n",
       "      <td>Tim Robbins</td>\n",
       "      <td>Morgan Freeman</td>\n",
       "      <td>Bob Gunton</td>\n",
       "      <td>William Sadler</td>\n",
       "    </tr>\n",
       "    <tr>\n",
       "      <th>1</th>\n",
       "      <td>https://m.media-amazon.com/images/M/MV5BM2MyNj...</td>\n",
       "      <td>The Godfather</td>\n",
       "      <td>1972</td>\n",
       "      <td>A</td>\n",
       "      <td>175 min</td>\n",
       "      <td>Crime, Drama</td>\n",
       "      <td>9.2</td>\n",
       "      <td>An organized crime dynasty's aging patriarch t...</td>\n",
       "      <td>Francis Ford Coppola</td>\n",
       "      <td>Marlon Brando</td>\n",
       "      <td>Al Pacino</td>\n",
       "      <td>James Caan</td>\n",
       "      <td>Diane Keaton</td>\n",
       "    </tr>\n",
       "    <tr>\n",
       "      <th>2</th>\n",
       "      <td>https://m.media-amazon.com/images/M/MV5BMTMxNT...</td>\n",
       "      <td>The Dark Knight</td>\n",
       "      <td>2008</td>\n",
       "      <td>UA</td>\n",
       "      <td>152 min</td>\n",
       "      <td>Action, Crime, Drama</td>\n",
       "      <td>9.0</td>\n",
       "      <td>When the menace known as the Joker wreaks havo...</td>\n",
       "      <td>Christopher Nolan</td>\n",
       "      <td>Christian Bale</td>\n",
       "      <td>Heath Ledger</td>\n",
       "      <td>Aaron Eckhart</td>\n",
       "      <td>Michael Caine</td>\n",
       "    </tr>\n",
       "    <tr>\n",
       "      <th>3</th>\n",
       "      <td>https://m.media-amazon.com/images/M/MV5BMWMwMG...</td>\n",
       "      <td>The Godfather: Part II</td>\n",
       "      <td>1974</td>\n",
       "      <td>A</td>\n",
       "      <td>202 min</td>\n",
       "      <td>Crime, Drama</td>\n",
       "      <td>9.0</td>\n",
       "      <td>The early life and career of Vito Corleone in ...</td>\n",
       "      <td>Francis Ford Coppola</td>\n",
       "      <td>Al Pacino</td>\n",
       "      <td>Robert De Niro</td>\n",
       "      <td>Robert Duvall</td>\n",
       "      <td>Diane Keaton</td>\n",
       "    </tr>\n",
       "    <tr>\n",
       "      <th>4</th>\n",
       "      <td>https://m.media-amazon.com/images/M/MV5BMWU4N2...</td>\n",
       "      <td>12 Angry Men</td>\n",
       "      <td>1957</td>\n",
       "      <td>U</td>\n",
       "      <td>96 min</td>\n",
       "      <td>Crime, Drama</td>\n",
       "      <td>9.0</td>\n",
       "      <td>A jury holdout attempts to prevent a miscarria...</td>\n",
       "      <td>Sidney Lumet</td>\n",
       "      <td>Henry Fonda</td>\n",
       "      <td>Lee J. Cobb</td>\n",
       "      <td>Martin Balsam</td>\n",
       "      <td>John Fiedler</td>\n",
       "    </tr>\n",
       "  </tbody>\n",
       "</table>\n",
       "</div>"
      ],
      "text/plain": [
       "                                         Poster_Link  \\\n",
       "0  https://m.media-amazon.com/images/M/MV5BMDFkYT...   \n",
       "1  https://m.media-amazon.com/images/M/MV5BM2MyNj...   \n",
       "2  https://m.media-amazon.com/images/M/MV5BMTMxNT...   \n",
       "3  https://m.media-amazon.com/images/M/MV5BMWMwMG...   \n",
       "4  https://m.media-amazon.com/images/M/MV5BMWU4N2...   \n",
       "\n",
       "               Series_Title Released_Year Certificate  Runtime  \\\n",
       "0  The Shawshank Redemption          1994           A  142 min   \n",
       "1             The Godfather          1972           A  175 min   \n",
       "2           The Dark Knight          2008          UA  152 min   \n",
       "3    The Godfather: Part II          1974           A  202 min   \n",
       "4              12 Angry Men          1957           U   96 min   \n",
       "\n",
       "                  Genre  IMDB_Rating  \\\n",
       "0                 Drama          9.3   \n",
       "1          Crime, Drama          9.2   \n",
       "2  Action, Crime, Drama          9.0   \n",
       "3          Crime, Drama          9.0   \n",
       "4          Crime, Drama          9.0   \n",
       "\n",
       "                                            Overview              Director  \\\n",
       "0  Two imprisoned men bond over a number of years...        Frank Darabont   \n",
       "1  An organized crime dynasty's aging patriarch t...  Francis Ford Coppola   \n",
       "2  When the menace known as the Joker wreaks havo...     Christopher Nolan   \n",
       "3  The early life and career of Vito Corleone in ...  Francis Ford Coppola   \n",
       "4  A jury holdout attempts to prevent a miscarria...          Sidney Lumet   \n",
       "\n",
       "            Star1           Star2          Star3           Star4  \n",
       "0     Tim Robbins  Morgan Freeman     Bob Gunton  William Sadler  \n",
       "1   Marlon Brando       Al Pacino     James Caan    Diane Keaton  \n",
       "2  Christian Bale    Heath Ledger  Aaron Eckhart   Michael Caine  \n",
       "3       Al Pacino  Robert De Niro  Robert Duvall    Diane Keaton  \n",
       "4     Henry Fonda     Lee J. Cobb  Martin Balsam    John Fiedler  "
      ]
     },
     "execution_count": 4,
     "metadata": {},
     "output_type": "execute_result"
    }
   ],
   "source": [
    "df.head(5)"
   ]
  },
  {
   "cell_type": "code",
   "execution_count": 5,
   "id": "c7cda4c4",
   "metadata": {
    "scrolled": true
   },
   "outputs": [
    {
     "data": {
      "text/plain": [
       "Poster_Link        0\n",
       "Series_Title       0\n",
       "Released_Year      0\n",
       "Certificate      101\n",
       "Runtime            0\n",
       "Genre              0\n",
       "IMDB_Rating        0\n",
       "Overview           0\n",
       "Director           0\n",
       "Star1              0\n",
       "Star2              0\n",
       "Star3              0\n",
       "Star4              0\n",
       "dtype: int64"
      ]
     },
     "execution_count": 5,
     "metadata": {},
     "output_type": "execute_result"
    }
   ],
   "source": [
    "df.isnull().sum()"
   ]
  },
  {
   "cell_type": "code",
   "execution_count": 7,
   "id": "000058b9",
   "metadata": {},
   "outputs": [
    {
     "data": {
      "text/plain": [
       "(1000, 13)"
      ]
     },
     "execution_count": 7,
     "metadata": {},
     "output_type": "execute_result"
    }
   ],
   "source": [
    "df.shape"
   ]
  },
  {
   "cell_type": "markdown",
   "id": "d7d29322",
   "metadata": {},
   "source": [
    "# Data Visualization"
   ]
  },
  {
   "cell_type": "code",
   "execution_count": 8,
   "id": "2ac2fd18",
   "metadata": {},
   "outputs": [],
   "source": [
    "import wordcloud\n",
    "from wordcloud import WordCloud,STOPWORDS"
   ]
  },
  {
   "cell_type": "code",
   "execution_count": 9,
   "id": "844319f1",
   "metadata": {
    "scrolled": true
   },
   "outputs": [
    {
     "data": {
      "image/png": "[encoded data removed]",
      "text/plain": [
       "<Figure size 576x576 with 1 Axes>"
      ]
     },
     "metadata": {
      "needs_background": "light"
     },
     "output_type": "display_data"
    }
   ],
   "source": [
    "df['Series_Title'] = df['Series_Title'].fillna(\"\").astype('str')\n",
    "title_corpus = ' '.join(df['Series_Title'])\n",
    "title_wordcloud = WordCloud(stopwords=STOPWORDS, background_color='black', height=2000, width=4000).generate(title_corpus)\n",
    "plt.figure(figsize=(8,8))\n",
    "plt.imshow(title_wordcloud)\n",
    "plt.axis('off')\n",
    "plt.show()"
   ]
  },
  {
   "cell_type": "code",
   "execution_count": 10,
   "id": "ab7f987b",
   "metadata": {},
   "outputs": [
    {
     "data": {
      "text/plain": [
       "array([[<AxesSubplot:title={'center':'IMDB_Rating'}>]], dtype=object)"
      ]
     },
     "execution_count": 10,
     "metadata": {},
     "output_type": "execute_result"
    },
    {
     "data": {
      "image/png": "[encoded data removed]",
      "text/plain": [
       "<Figure size 432x288 with 1 Axes>"
      ]
     },
     "metadata": {
      "needs_background": "light"
     },
     "output_type": "display_data"
    }
   ],
   "source": [
    "df.hist(column='IMDB_Rating')"
   ]
  },
  {
   "cell_type": "markdown",
   "id": "a4dee23b",
   "metadata": {},
   "source": [
    "# Genre Filter"
   ]
  },
  {
   "cell_type": "code",
   "execution_count": 11,
   "id": "13263d10",
   "metadata": {},
   "outputs": [
    {
     "name": "stdout",
     "output_type": "stream",
     "text": [
      "{'Action', 'Mystery', 'Musical', 'Animation', 'Crime', 'Sci-Fi', 'Biography', 'Thriller', 'Romance', 'Western', 'War', 'Family', 'Horror', 'Film-Noir', 'History', 'Drama', 'Music', 'Comedy', 'Sport', 'Fantasy', 'Adventure'}\n"
     ]
    }
   ],
   "source": [
    "genre_labels = set()\n",
    "a=df['Genre'].str.split(',').values\n",
    "b=df['Genre'].str.split(', ').values\n",
    "c=df['Genre'].str.split(' ,').values\n",
    "d=np.concatenate((np.concatenate((a, b), axis=0),c),axis=0)\n",
    "\n",
    "for s in np.logical_and(a, b, c):\n",
    "   genre_labels = genre_labels.union(set(s))\n",
    "\n",
    "print(genre_labels)"
   ]
  },
  {
   "cell_type": "code",
   "execution_count": 12,
   "id": "0de88f80",
   "metadata": {},
   "outputs": [
    {
     "data": {
      "text/plain": [
       "[['Drama', 724],\n",
       " ['Comedy', 233],\n",
       " ['Crime', 209],\n",
       " ['Adventure', 196],\n",
       " ['Action', 189],\n",
       " ['Thriller', 137],\n",
       " ['Romance', 125],\n",
       " ['Biography', 109],\n",
       " ['Mystery', 99],\n",
       " ['Animation', 82],\n",
       " ['Sci-Fi', 67],\n",
       " ['Fantasy', 66],\n",
       " ['Family', 56],\n",
       " ['History', 56],\n",
       " ['War', 51],\n",
       " ['Music', 35],\n",
       " ['Horror', 32],\n",
       " ['Western', 20],\n",
       " ['Film-Noir', 19],\n",
       " ['Sport', 19],\n",
       " ['Musical', 17]]"
      ]
     },
     "execution_count": 12,
     "metadata": {},
     "output_type": "execute_result"
    }
   ],
   "source": [
    "def count_word(df,Genre, census):\n",
    "    keyword_count = dict()\n",
    "    for s in census: \n",
    "        keyword_count[s] = 0\n",
    "    for census_keywords in np.logical_and(a, b, c):        \n",
    "        if type(census_keywords) == int and pd.isnull(census_keywords): \n",
    "            continue        \n",
    "        for s in [s for s in census_keywords if s in census]: \n",
    "            if pd.notnull(s): \n",
    "                keyword_count[s] += 1\n",
    "   \n",
    "    keyword_occurences = []\n",
    "    for k,v in keyword_count.items():\n",
    "        keyword_occurences.append([k,v])\n",
    "    keyword_occurences.sort(key = lambda x:x[1], reverse = True)\n",
    "    return keyword_occurences, keyword_count\n",
    "\n",
    "keyword_occurences, dum = count_word(df, 'Genre', genre_labels)\n",
    "keyword_occurences[:]\n"
   ]
  },
  {
   "cell_type": "code",
   "execution_count": 13,
   "id": "01fabc55",
   "metadata": {},
   "outputs": [
    {
     "name": "stdout",
     "output_type": "stream",
     "text": [
      "<class 'pandas.core.series.Series'>\n"
     ]
    }
   ],
   "source": [
    "df['Genre'] = df['Genre'].fillna(\"\").astype('str')\n",
    "print(type(df['Genre']))"
   ]
  },
  {
   "cell_type": "code",
   "execution_count": 14,
   "id": "5017b7cf",
   "metadata": {},
   "outputs": [
    {
     "name": "stderr",
     "output_type": "stream",
     "text": [
      "C:\\Users\\siddh\\anaconda3\\lib\\site-packages\\scipy\\__init__.py:146: UserWarning: A NumPy version >=1.16.5 and <1.23.0 is required for this version of SciPy (detected version 1.24.2\n",
      "  warnings.warn(f\"A NumPy version >={np_minversion} and <{np_maxversion}\"\n"
     ]
    },
    {
     "data": {
      "text/plain": [
       "(1000, 132)"
      ]
     },
     "execution_count": 14,
     "metadata": {},
     "output_type": "execute_result"
    }
   ],
   "source": [
    "from sklearn.feature_extraction.text import TfidfVectorizer\n",
    "tf = TfidfVectorizer(analyzer='word',ngram_range=(1, 2),min_df=0, stop_words='english')\n",
    "tfidf_matrix = tf.fit_transform(df['Genre'])\n",
    "tfidf_matrix.shape"
   ]
  },
  {
   "cell_type": "code",
   "execution_count": 15,
   "id": "3f48944f",
   "metadata": {},
   "outputs": [
    {
     "data": {
      "text/plain": [
       "array([[1.        , 0.32753693, 0.2090213 , 0.32753693],\n",
       "       [0.32753693, 1.        , 0.63816101, 1.        ],\n",
       "       [0.2090213 , 0.63816101, 1.        , 0.63816101],\n",
       "       [0.32753693, 1.        , 0.63816101, 1.        ]])"
      ]
     },
     "execution_count": 15,
     "metadata": {},
     "output_type": "execute_result"
    }
   ],
   "source": [
    "from sklearn.metrics.pairwise import linear_kernel\n",
    "cosine_sim = linear_kernel(tfidf_matrix, tfidf_matrix)\n",
    "cosine_sim[:4, :4]"
   ]
  },
  {
   "cell_type": "code",
   "execution_count": 17,
   "id": "21035719",
   "metadata": {},
   "outputs": [],
   "source": [
    "# Build a 1-dimensional array with movie titles\n",
    "titles = df['Series_Title']\n",
    "indices = pd.Series(df.index, index=df['Series_Title'])\n",
    "\n",
    "# Function that get movie recommendations based on the cosine similarity score of movie genres\n",
    "def genre_recommendations(title):\n",
    "    if title in titles.values:\n",
    "        idx = indices[title]\n",
    "        sim_scores = list(enumerate(cosine_sim[idx]))\n",
    "        sim_scores = sorted(sim_scores, key=lambda x: x[1], reverse=True)\n",
    "        sim_scores = sim_scores[0:50]\n",
    "        movie_indices = [i[0] for i in sim_scores]\n",
    "        name2 = titles.iloc[movie_indices]\n",
    "        return name2\n",
    "\n",
    "    dff = df[df['Series_Title'].str.contains(title)]\n",
    "    x=dff['Series_Title'].iloc[0]\n",
    "    y=genre_recommendations(x)\n",
    "    return y"
   ]
  },
  {
   "cell_type": "code",
   "execution_count": 20,
   "id": "a9a76dcf",
   "metadata": {},
   "outputs": [
    {
     "data": {
      "text/plain": [
       "226    Harry Potter and the Deathly Hallows: Part 2\n",
       "377                                        Big Fish\n",
       "497                                        The Fall\n",
       "498                                      Life of Pi\n",
       "537                              La montaña sagrada\n",
       "964                                        Dead Man\n",
       "292                           El ángel exterminador\n",
       "25                                   The Green Mile\n",
       "487                          Låt den rätte komma in\n",
       "762                           Death Note: Desu nôto\n",
       "Name: Series_Title, dtype: object"
      ]
     },
     "execution_count": 20,
     "metadata": {},
     "output_type": "execute_result"
    }
   ],
   "source": [
    "genre_recommendations('Harry Potter').head(10)"
   ]
  },
  {
   "cell_type": "code",
   "execution_count": 21,
   "id": "7cbba200",
   "metadata": {},
   "outputs": [],
   "source": [
    "from sklearn.utils import shuffle\n",
    "genres = df['Series_Title']\n",
    "indices = pd.Series(df.index, index=df['Series_Title'])\n",
    "\n",
    "def genre_genre_recommendations(genre):\n",
    "    dfg = df[df['Genre'].str.contains(genre)]\n",
    "    dfg=shuffle(dfg)\n",
    "    x=dfg['Series_Title']\n",
    "    return x"
   ]
  },
  {
   "cell_type": "code",
   "execution_count": 26,
   "id": "82b23468",
   "metadata": {
    "scrolled": true
   },
   "outputs": [
    {
     "data": {
      "text/plain": [
       "623                                          Avatar\n",
       "755    Harry Potter and the Deathly Hallows: Part 1\n",
       "406                              The Princess Bride\n",
       "668                      La double vie de Véronique\n",
       "506        Harry Potter and the Prisoner of Azkaban\n",
       "292                           El ángel exterminador\n",
       "568                                       Nosferatu\n",
       "685                                    Ghostbusters\n",
       "396                                   Groundhog Day\n",
       "56                                   Kimi no na wa.\n",
       "Name: Series_Title, dtype: object"
      ]
     },
     "execution_count": 26,
     "metadata": {},
     "output_type": "execute_result"
    }
   ],
   "source": [
    "genre_genre_recommendations('Fantasy').head(10)"
   ]
  },
  {
   "cell_type": "markdown",
   "id": "8531cccb",
   "metadata": {},
   "source": [
    "# Movie Filter"
   ]
  },
  {
   "cell_type": "code",
   "execution_count": 27,
   "id": "cdc2e84c",
   "metadata": {},
   "outputs": [],
   "source": [
    "df['Series_Title'] = df['Series_Title'].fillna(\"\").astype('str')"
   ]
  },
  {
   "cell_type": "code",
   "execution_count": 28,
   "id": "af541ec1",
   "metadata": {},
   "outputs": [
    {
     "data": {
      "text/plain": [
       "(1000, 2544)"
      ]
     },
     "execution_count": 28,
     "metadata": {},
     "output_type": "execute_result"
    }
   ],
   "source": [
    "from sklearn.feature_extraction.text import TfidfVectorizer\n",
    "#tfidf_vectorizer = TfidfVectorizer ()\n",
    "tf = TfidfVectorizer(analyzer='word',ngram_range=(1, 2),min_df=0, stop_words='english')\n",
    "tfidf_matrix = tf.fit_transform(df['Series_Title'])\n",
    "tfidf_matrix.shape"
   ]
  },
  {
   "cell_type": "code",
   "execution_count": 29,
   "id": "48cd84c2",
   "metadata": {},
   "outputs": [],
   "source": [
    "from sklearn.metrics.pairwise import linear_kernel\n",
    "cosine = linear_kernel(tfidf_matrix,tfidf_matrix)\n",
    "#cosine[:5,:5]"
   ]
  },
  {
   "cell_type": "code",
   "execution_count": 30,
   "id": "be76a1e5",
   "metadata": {},
   "outputs": [],
   "source": [
    "titles = df['Series_Title']\n",
    "indices = pd.Series(df.index, index=df['Series_Title'])\n",
    "df2 = titles.to_frame()\n",
    "\n",
    "def movie_recommendations(title):\n",
    "    if title in titles.values:\n",
    "        idx = indices[title]\n",
    "        sim_scores = list(enumerate(cosine[idx]>0.0))\n",
    "        sim_scores = sorted(sim_scores, key=lambda x: x[1], reverse=True)\n",
    "        aa=[f[1] for f in sim_scores]\n",
    "        b=aa.count(True)\n",
    "        sim_scores = sim_scores[0:b]\n",
    "        movie_indices = [i[0] for i in sim_scores]\n",
    "        name2 = titles.iloc[movie_indices]\n",
    "        return name2\n",
    "\n",
    "    dff = df[df['Series_Title'].str.contains(title)]\n",
    "    name = dff['Series_Title']\n",
    "    return name "
   ]
  },
  {
   "cell_type": "code",
   "execution_count": 38,
   "id": "09511bc8",
   "metadata": {
    "scrolled": true
   },
   "outputs": [
    {
     "data": {
      "text/plain": [
       "226    Harry Potter and the Deathly Hallows: Part 2\n",
       "506        Harry Potter and the Prisoner of Azkaban\n",
       "755    Harry Potter and the Deathly Hallows: Part 1\n",
       "781             Harry Potter and the Goblet of Fire\n",
       "853                                     Dirty Harry\n",
       "927          Harry Potter and the Half-Blood Prince\n",
       "947           Harry Potter and the Sorcerer's Stone\n",
       "975                         When Harry Met Sally...\n",
       "Name: Series_Title, dtype: object"
      ]
     },
     "execution_count": 38,
     "metadata": {},
     "output_type": "execute_result"
    }
   ],
   "source": [
    "movie_recommendations('Harry')"
   ]
  },
  {
   "cell_type": "code",
   "execution_count": 46,
   "id": "43514c70",
   "metadata": {},
   "outputs": [
    {
     "data": {
      "text/plain": [
       "4                    12 Angry Men\n",
       "215              12 Years a Slave\n",
       "232        No Country for Old Men\n",
       "336                 Short Term 12\n",
       "479    X-Men: Days of Future Past\n",
       "513               Children of Men\n",
       "536       All the President's Men\n",
       "794     Hedwig and the Angry Inch\n",
       "824                A Few Good Men\n",
       "Name: Series_Title, dtype: object"
      ]
     },
     "execution_count": 46,
     "metadata": {},
     "output_type": "execute_result"
    }
   ],
   "source": [
    "movie_recommendations('12 Angry Men')"
   ]
  },
  {
   "cell_type": "markdown",
   "id": "1be280bf",
   "metadata": {},
   "source": [
    "# Director Filter"
   ]
  },
  {
   "cell_type": "code",
   "execution_count": 47,
   "id": "2351999e",
   "metadata": {},
   "outputs": [],
   "source": [
    "def directors_recommendations(Director):\n",
    "    dd = df[df['Director'].str.contains(Director)]\n",
    "    return dd['Series_Title']"
   ]
  },
  {
   "cell_type": "code",
   "execution_count": 50,
   "id": "fa96f855",
   "metadata": {
    "scrolled": true
   },
   "outputs": [
    {
     "data": {
      "text/plain": [
       "226    Harry Potter and the Deathly Hallows: Part 2\n",
       "755    Harry Potter and the Deathly Hallows: Part 1\n",
       "927          Harry Potter and the Half-Blood Prince\n",
       "Name: Series_Title, dtype: object"
      ]
     },
     "execution_count": 50,
     "metadata": {},
     "output_type": "execute_result"
    }
   ],
   "source": [
    "directors_recommendations('Yates')"
   ]
  },
  {
   "cell_type": "markdown",
   "id": "ac14076b",
   "metadata": {},
   "source": [
    "# Rating Filter"
   ]
  },
  {
   "cell_type": "code",
   "execution_count": 51,
   "id": "bf998246",
   "metadata": {},
   "outputs": [],
   "source": [
    "from sklearn.utils import shuffle\n",
    "genres = df['Series_Title']\n",
    "indices = pd.Series(df.index, index=df['Series_Title'])\n",
    "\n",
    "\n",
    "def genre_rating_recommendations(genre):\n",
    "    dd = df\n",
    "    dd['IMDB_Rating'] = dd['IMDB_Rating'].apply(math.floor)\n",
    "    df3 = dd['IMDB_Rating']\n",
    "    dfg = df[df['Genre'].str.contains(genre)]\n",
    "    dfg.insert(1,'Rating',df3)\n",
    "    dfg = shuffle(dfg)\n",
    "    dfg = dfg.sort_values('Rating', ascending = False, ignore_index = True)\n",
    "    x=dfg['Series_Title']\n",
    "    return x"
   ]
  },
  {
   "cell_type": "code",
   "execution_count": 54,
   "id": "97863cbe",
   "metadata": {},
   "outputs": [
    {
     "data": {
      "text/plain": [
       "0                      The Last Picture Show\n",
       "1                                City Lights\n",
       "2                           Some Like It Hot\n",
       "3      Bom Yeoareum Gaeul Gyeoul Geurigo Bom\n",
       "4                The Best Years of Our Lives\n",
       "                       ...                  \n",
       "120                         Harold and Maude\n",
       "121                               Jab We Met\n",
       "122                 The Theory of Everything\n",
       "123                   Breakfast at Tiffany's\n",
       "124                            The Quiet Man\n",
       "Name: Series_Title, Length: 125, dtype: object"
      ]
     },
     "execution_count": 54,
     "metadata": {},
     "output_type": "execute_result"
    }
   ],
   "source": [
    "genre_rating_recommendations('Romance')"
   ]
  },
  {
   "cell_type": "markdown",
   "id": "23076a75",
   "metadata": {},
   "source": [
    "# Actor Filter"
   ]
  },
  {
   "cell_type": "code",
   "execution_count": 55,
   "id": "76ee6462",
   "metadata": {},
   "outputs": [],
   "source": [
    "aa = df[['Star1','Star2','Star3','Star4']]\n",
    "def actors_recommendations(Actor):\n",
    "    dd = df[aa.apply(lambda row: any(Actor in str(cell) for cell in row), axis=1)]\n",
    "    dd = shuffle(dd)\n",
    "    return dd['Series_Title']"
   ]
  },
  {
   "cell_type": "code",
   "execution_count": 58,
   "id": "5b90c9b8",
   "metadata": {},
   "outputs": [
    {
     "data": {
      "text/plain": [
       "265    Dà hóng denglong gaogao guà\n",
       "240                 Dil Chahta Hai\n",
       "374                  Kal Ho Naa Ho\n",
       "Name: Series_Title, dtype: object"
      ]
     },
     "execution_count": 58,
     "metadata": {},
     "output_type": "execute_result"
    }
   ],
   "source": [
    "#val = input()\n",
    "actors_recommendations('Saif')"
   ]
  },
  {
   "cell_type": "markdown",
   "id": "ed17328c",
   "metadata": {},
   "source": [
    "# Combine Filter"
   ]
  },
  {
   "cell_type": "code",
   "execution_count": 59,
   "id": "3d8ba7ac",
   "metadata": {},
   "outputs": [],
   "source": [
    "aa = df[['Star1','Star2','Star3','Star4']]\n",
    "def actor_recommendations(Actor):\n",
    "    dd = df[aa.apply(lambda row: any(Actor in str(cell) for cell in row), axis=1)]\n",
    "    dd = shuffle(dd)\n",
    "    s1 = set(dd['Series_Title'])\n",
    "    return s1\n",
    "\n",
    "def genre_rating_recommendations(genre):\n",
    "    dd = df\n",
    "    dd['IMDB_Rating'] = dd['IMDB_Rating'].apply(math.floor)\n",
    "    df3 = dd['IMDB_Rating']\n",
    "    dfg = df[df['Genre'].str.contains(genre)]\n",
    "    dfg.insert(1,'Rating',df3)\n",
    "    dfg = shuffle(dfg)\n",
    "    dfg = dfg.sort_values('Rating', ascending = False, ignore_index = True)\n",
    "    s2 = set(dfg['Series_Title'])\n",
    "    return s2\n",
    "\n",
    "def directors_recommendations(Director):\n",
    "    dd = df[df['Director'].str.contains(Director)]\n",
    "    s3 = set(dd['Series_Title'])\n",
    "    return s3"
   ]
  },
  {
   "cell_type": "code",
   "execution_count": 60,
   "id": "ffd8b7b1",
   "metadata": {},
   "outputs": [
    {
     "name": "stdout",
     "output_type": "stream",
     "text": [
      "Enter No. of Actors: 2\n",
      "Enter: Emma\n",
      "Enter: Dan\n",
      "Enter No. of Genres: -1\n",
      "Enter Director: -1\n",
      "0  Harry Potter and the Deathly Hallows: Part 1\n",
      "1  Harry Potter and the Deathly Hallows: Part 2\n",
      "2           Harry Potter and the Goblet of Fire\n",
      "3        Harry Potter and the Half-Blood Prince\n",
      "4      Harry Potter and the Prisoner of Azkaban\n"
     ]
    }
   ],
   "source": [
    "n = int(input(\"Enter No. of Actors: \"))\n",
    "m={}\n",
    "w={}\n",
    "y={}\n",
    "if n != -1:\n",
    "    x = input(\"Enter: \")\n",
    "    m = actor_recommendations(x)\n",
    "\n",
    "    for i in range(1,n):\n",
    "        x = input(\"Enter: \")\n",
    "        y = actor_recommendations(x)\n",
    "        m = y.intersection(m)\n",
    "        \n",
    "n = int(input(\"Enter No. of Genres: \"))\n",
    "\n",
    "if n != -1:\n",
    "    if m == {}:\n",
    "        x = input(\"Enter: \")\n",
    "        w = genre_rating_recommendations(x)\n",
    "        for i in range(1,n):\n",
    "            x = input(\"Enter: \")\n",
    "            y = genre_rating_recommendations(x)\n",
    "            w = y.intersection(w)\n",
    "    else:\n",
    "        for i in range(0,n):\n",
    "            x = input(\"Enter: \")\n",
    "            y = genre_rating_recommendations(x)\n",
    "            m = y.intersection(m)\n",
    "\n",
    "for i in range (0,1): \n",
    "    x = input(\"Enter Director: \")\n",
    "    if x == '-1': \n",
    "        if m != {}:\n",
    "            y=m\n",
    "        elif w != {}:\n",
    "            y=m\n",
    "        else:\n",
    "            print(\"Input Not Found\")\n",
    "            break\n",
    "    else:\n",
    "        y = directors_recommendations(x)\n",
    "        if m != {} and w == {}:\n",
    "            y = y.intersection(m)\n",
    "        elif m == {} and w != {}:\n",
    "            y = y.intersection(w)     \n",
    "        else:\n",
    "            print()\n",
    "    mov_new = sorted(y)\n",
    "    movies_new = pd.DataFrame([sub.split(',') for sub in mov_new])\n",
    "    mov = movies_new.to_string(header = False)\n",
    "    print(mov)"
   ]
  }
 ],
 "metadata": {
  "kernelspec": {
   "display_name": "Python 3 (ipykernel)",
   "language": "python",
   "name": "python3"
  },
  "language_info": {
   "codemirror_mode": {
    "name": "ipython",
    "version": 3
   },
   "file_extension": ".py",
   "mimetype": "text/x-python",
   "name": "python",
   "nbconvert_exporter": "python",
   "pygments_lexer": "ipython3",
   "version": "3.9.12"
  }
 },
 "nbformat": 4,
 "nbformat_minor": 5
}
